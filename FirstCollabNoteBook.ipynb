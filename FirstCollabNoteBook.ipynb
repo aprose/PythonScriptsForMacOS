{
  "nbformat": 4,
  "nbformat_minor": 0,
  "metadata": {
    "colab": {
      "name": "FirstCollabNoteBook",
      "provenance": [],
      "collapsed_sections": [],
      "authorship_tag": "ABX9TyO6xBBT9pE3aHc4gu0Ogcu0",
      "include_colab_link": true
    },
    "kernelspec": {
      "name": "python3",
      "display_name": "Python 3"
    }
  },
  "cells": [
    {
      "cell_type": "markdown",
      "metadata": {
        "id": "view-in-github",
        "colab_type": "text"
      },
      "source": [
        "<a href=\"https://colab.research.google.com/github/aprose/PythonNoteBooks/blob/main/FirstCollabNoteBook.ipynb\" target=\"_parent\"><img src=\"https://colab.research.google.com/assets/colab-badge.svg\" alt=\"Open In Colab\"/></a>"
      ]
    },
    {
      "cell_type": "code",
      "metadata": {
        "id": "ZWfBNy_lwFrx",
        "colab": {
          "base_uri": "https://localhost:8080/"
        },
        "outputId": "178c2d80-f51f-493c-f3cc-67d6bf4f1965"
      },
      "source": [
        "import pandas\n",
        "\n",
        "#test\n",
        "\n",
        "print(\"Loaded\")"
      ],
      "execution_count": null,
      "outputs": [
        {
          "output_type": "stream",
          "text": [
            "Loaded\n"
          ],
          "name": "stdout"
        }
      ]
    },
    {
      "cell_type": "code",
      "metadata": {
        "id": "1Mgizll8wK_2"
      },
      "source": [
        ""
      ],
      "execution_count": null,
      "outputs": []
    }
  ]
}